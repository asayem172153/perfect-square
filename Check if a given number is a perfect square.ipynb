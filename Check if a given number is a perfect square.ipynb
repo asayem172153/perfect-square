{
  "nbformat": 4,
  "nbformat_minor": 0,
  "metadata": {
    "colab": {
      "provenance": []
    },
    "kernelspec": {
      "name": "python3",
      "display_name": "Python 3"
    },
    "language_info": {
      "name": "python"
    }
  },
  "cells": [
    {
      "cell_type": "code",
      "execution_count": 4,
      "metadata": {
        "colab": {
          "base_uri": "https://localhost:8080/"
        },
        "id": "6U2hudAP3xhV",
        "outputId": "f0b8cb53-9085-45bf-f17c-6430ebf7c558"
      },
      "outputs": [
        {
          "output_type": "stream",
          "name": "stdout",
          "text": [
            "Enter a number to check: 80\n",
            "80 Not perfact square2\n"
          ]
        }
      ],
      "source": [
        "import math\n",
        "number = int(input('Enter a number to check: '))\n",
        "root = math.sqrt(number)\n",
        "\n",
        "if root == int(root): # root*root == number\n",
        "  print(number,'Perfect Square')\n",
        "else:\n",
        "  print(number,'Not perfect square')\n"
      ]
    }
  ]
}